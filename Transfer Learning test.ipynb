{
 "cells": [
  {
   "cell_type": "code",
   "execution_count": 1,
   "id": "0c9df2a6",
   "metadata": {},
   "outputs": [
    {
     "name": "stdout",
     "output_type": "stream",
     "text": [
      "Init Plugin\n",
      "Init Graph Optimizer\n",
      "Init Kernel\n"
     ]
    }
   ],
   "source": [
    "import os\n",
    "\n",
    "from tensorflow.keras import layers\n",
    "from tensorflow.keras import Model"
   ]
  },
  {
   "cell_type": "code",
   "execution_count": 2,
   "id": "d97dbbf0",
   "metadata": {},
   "outputs": [
    {
     "name": "stdout",
     "output_type": "stream",
     "text": [
      "Metal device set to: Apple M1\n"
     ]
    },
    {
     "name": "stderr",
     "output_type": "stream",
     "text": [
      "2022-01-09 14:46:20.608275: I tensorflow/core/common_runtime/pluggable_device/pluggable_device_factory.cc:305] Could not identify NUMA node of platform GPU ID 0, defaulting to 0. Your kernel may not have been built with NUMA support.\n",
      "2022-01-09 14:46:20.608360: I tensorflow/core/common_runtime/pluggable_device/pluggable_device_factory.cc:271] Created TensorFlow device (/job:localhost/replica:0/task:0/device:GPU:0 with 0 MB memory) -> physical PluggableDevice (device: 0, name: METAL, pci bus id: <undefined>)\n"
     ]
    },
    {
     "name": "stdout",
     "output_type": "stream",
     "text": [
      "last layer output shape:  (None, 7, 7, 768)\n"
     ]
    }
   ],
   "source": [
    "from tensorflow.keras.applications.inception_v3 import InceptionV3\n",
    "\n",
    "local_weights_file = './inception_v3_weights_tf_dim_ordering_tf_kernels_notop.h5'\n",
    "\n",
    "pre_trained_model = InceptionV3(input_shape = (150, 150, 3), \n",
    "                                include_top = False, \n",
    "                                weights = None)\n",
    "\n",
    "pre_trained_model.load_weights(local_weights_file)\n",
    "\n",
    "for layer in pre_trained_model.layers:\n",
    "    layer.trainable = False\n",
    "\n",
    "# pre_trained_model.summary()\n",
    "\n",
    "last_layer = pre_trained_model.get_layer('mixed7')\n",
    "print('last layer output shape: ', last_layer.output_shape)\n",
    "last_output = last_layer.output"
   ]
  },
  {
   "cell_type": "code",
   "execution_count": 3,
   "id": "f8be037e",
   "metadata": {},
   "outputs": [],
   "source": [
    "from tensorflow.keras.optimizers import RMSprop\n",
    "\n",
    "# Flatten the output layer to 1 dimension\n",
    "x = layers.Flatten()(last_output)\n",
    "# Add a fully connected layer with 1,024 hidden units and ReLU activation\n",
    "x = layers.Dense(1024, activation='relu')(x)\n",
    "# Add a dropout rate of 0.2\n",
    "x = layers.Dropout(0.2)(x)                  \n",
    "# Add a final sigmoid layer for classification\n",
    "x = layers.Dense  (1, activation='sigmoid')(x)           \n",
    "\n",
    "model = Model( pre_trained_model.input, x) \n",
    "\n",
    "model.compile(optimizer = RMSprop(learning_rate=0.0001), \n",
    "              loss = 'binary_crossentropy', \n",
    "              metrics = ['accuracy'])"
   ]
  },
  {
   "cell_type": "code",
   "execution_count": 4,
   "id": "27eb6dcd",
   "metadata": {},
   "outputs": [
    {
     "name": "stdout",
     "output_type": "stream",
     "text": [
      "Found 1100 images belonging to 2 classes.\n",
      "Found 276 images belonging to 2 classes.\n"
     ]
    }
   ],
   "source": [
    "from tensorflow.keras.preprocessing.image import ImageDataGenerator\n",
    "\n",
    "import os\n",
    "\n",
    "# Define our example directories and files\n",
    "base_dir = './data'\n",
    "\n",
    "train_dir = os.path.join( base_dir, 'train')\n",
    "validation_dir = os.path.join( base_dir, 'validation')\n",
    "\n",
    "\n",
    "train_no_dir = os.path.join(train_dir, 'no') # Directory with our training without mask pictures\n",
    "train_yes_dir = os.path.join(train_dir, 'yes') # Directory with our training with mask pictures\n",
    "validation_no_dir = os.path.join(validation_dir, 'no') # Directory with our validation without mask pictures\n",
    "validation_yes_dir = os.path.join(validation_dir, 'yes')# Directory with our validation with mask pictures\n",
    "\n",
    "train_no_fnames = os.listdir(train_no_dir)\n",
    "train_yes_fnames = os.listdir(train_yes_dir)\n",
    "\n",
    "# Add our data-augmentation parameters to ImageDataGenerator\n",
    "train_datagen = ImageDataGenerator(rescale = 1./255.,\n",
    "                                   rotation_range = 40,\n",
    "                                   width_shift_range = 0.2,\n",
    "                                   height_shift_range = 0.2,\n",
    "                                   shear_range = 0.2,\n",
    "                                   zoom_range = 0.2,\n",
    "                                   horizontal_flip = True)\n",
    "\n",
    "# Note that the validation data should not be augmented!\n",
    "test_datagen = ImageDataGenerator( rescale = 1.0/255. )\n",
    "\n",
    "# Flow training images in batches of 20 using train_datagen generator\n",
    "train_generator = train_datagen.flow_from_directory(train_dir,\n",
    "                                                    #batch_size = 20,\n",
    "                                                    class_mode = 'binary', \n",
    "                                                    target_size = (150, 150))     \n",
    "\n",
    "# Flow validation images in batches of 20 using test_datagen generator\n",
    "validation_generator =  test_datagen.flow_from_directory( validation_dir,\n",
    "                                                          #batch_size  = 20,\n",
    "                                                          class_mode  = 'binary', \n",
    "                                                          target_size = (150, 150))"
   ]
  },
  {
   "cell_type": "code",
   "execution_count": 5,
   "id": "366a1434",
   "metadata": {},
   "outputs": [
    {
     "name": "stderr",
     "output_type": "stream",
     "text": [
      "2022-01-09 14:46:21.853571: I tensorflow/compiler/mlir/mlir_graph_optimization_pass.cc:176] None of the MLIR Optimization Passes are enabled (registered 2)\n",
      "2022-01-09 14:46:21.853681: W tensorflow/core/platform/profile_utils/cpu_utils.cc:128] Failed to get CPU frequency: 0 Hz\n"
     ]
    },
    {
     "name": "stdout",
     "output_type": "stream",
     "text": [
      "Epoch 1/20\n"
     ]
    },
    {
     "name": "stderr",
     "output_type": "stream",
     "text": [
      "2022-01-09 14:46:22.554383: I tensorflow/core/grappler/optimizers/custom_graph_optimizer_registry.cc:112] Plugin optimizer for device_type GPU is enabled.\n",
      "2022-01-09 14:46:28.584318: I tensorflow/core/grappler/optimizers/custom_graph_optimizer_registry.cc:112] Plugin optimizer for device_type GPU is enabled.\n"
     ]
    },
    {
     "name": "stdout",
     "output_type": "stream",
     "text": [
      "35/35 - 8s - loss: 0.2129 - accuracy: 0.9400 - val_loss: 0.0204 - val_accuracy: 0.9891\n",
      "Epoch 2/20\n",
      "35/35 - 6s - loss: 0.0552 - accuracy: 0.9818 - val_loss: 0.0060 - val_accuracy: 0.9964\n",
      "Epoch 3/20\n",
      "35/35 - 6s - loss: 0.0357 - accuracy: 0.9882 - val_loss: 0.0016 - val_accuracy: 1.0000\n",
      "Epoch 4/20\n",
      "35/35 - 6s - loss: 0.0263 - accuracy: 0.9927 - val_loss: 0.0017 - val_accuracy: 1.0000\n",
      "Epoch 5/20\n",
      "35/35 - 6s - loss: 0.0408 - accuracy: 0.9873 - val_loss: 0.0010 - val_accuracy: 1.0000\n",
      "Epoch 6/20\n",
      "35/35 - 6s - loss: 0.0314 - accuracy: 0.9927 - val_loss: 0.0522 - val_accuracy: 0.9855\n",
      "Epoch 7/20\n",
      "35/35 - 6s - loss: 0.0363 - accuracy: 0.9909 - val_loss: 0.0016 - val_accuracy: 1.0000\n",
      "Epoch 8/20\n",
      "35/35 - 6s - loss: 0.0126 - accuracy: 0.9955 - val_loss: 0.0376 - val_accuracy: 0.9928\n",
      "Epoch 9/20\n",
      "35/35 - 6s - loss: 0.0333 - accuracy: 0.9918 - val_loss: 1.5645e-04 - val_accuracy: 1.0000\n",
      "Epoch 10/20\n",
      "35/35 - 6s - loss: 0.0448 - accuracy: 0.9891 - val_loss: 0.0121 - val_accuracy: 0.9964\n",
      "Epoch 11/20\n",
      "35/35 - 6s - loss: 0.0250 - accuracy: 0.9936 - val_loss: 1.2322e-04 - val_accuracy: 1.0000\n",
      "Epoch 12/20\n",
      "35/35 - 6s - loss: 0.0083 - accuracy: 0.9964 - val_loss: 0.0098 - val_accuracy: 0.9964\n",
      "Epoch 13/20\n",
      "35/35 - 6s - loss: 0.0571 - accuracy: 0.9909 - val_loss: 0.0336 - val_accuracy: 0.9891\n",
      "Epoch 14/20\n",
      "35/35 - 6s - loss: 0.0163 - accuracy: 0.9955 - val_loss: 4.2746e-06 - val_accuracy: 1.0000\n",
      "Epoch 15/20\n",
      "35/35 - 6s - loss: 0.0265 - accuracy: 0.9927 - val_loss: 9.6962e-04 - val_accuracy: 1.0000\n",
      "Epoch 16/20\n",
      "35/35 - 6s - loss: 0.0065 - accuracy: 0.9982 - val_loss: 3.3705e-05 - val_accuracy: 1.0000\n",
      "Epoch 17/20\n",
      "35/35 - 6s - loss: 0.0461 - accuracy: 0.9900 - val_loss: 5.4198e-04 - val_accuracy: 1.0000\n",
      "Epoch 18/20\n",
      "35/35 - 6s - loss: 0.0340 - accuracy: 0.9945 - val_loss: 0.0374 - val_accuracy: 0.9819\n",
      "Epoch 19/20\n",
      "35/35 - 6s - loss: 0.0188 - accuracy: 0.9927 - val_loss: 1.6910e-04 - val_accuracy: 1.0000\n",
      "Epoch 20/20\n",
      "35/35 - 6s - loss: 0.0329 - accuracy: 0.9945 - val_loss: 7.2825e-06 - val_accuracy: 1.0000\n"
     ]
    }
   ],
   "source": [
    "history = model.fit(\n",
    "            train_generator,\n",
    "            validation_data = validation_generator,\n",
    "            #steps_per_epoch = 100,\n",
    "            epochs = 20,\n",
    "            #validation_steps = 50,\n",
    "            verbose = 2)"
   ]
  },
  {
   "cell_type": "code",
   "execution_count": 6,
   "id": "6d7912e0",
   "metadata": {},
   "outputs": [
    {
     "data": {
      "image/png": "[encoded data removed]",
      "text/plain": [
       "<Figure size 432x288 with 1 Axes>"
      ]
     },
     "metadata": {
      "needs_background": "light"
     },
     "output_type": "display_data"
    },
    {
     "data": {
      "text/plain": [
       "<Figure size 432x288 with 0 Axes>"
      ]
     },
     "metadata": {},
     "output_type": "display_data"
    }
   ],
   "source": [
    "import matplotlib.pyplot as plt\n",
    "acc = history.history['accuracy']\n",
    "val_acc = history.history['val_accuracy']\n",
    "loss = history.history['loss']\n",
    "val_loss = history.history['val_loss']\n",
    "\n",
    "epochs = range(len(acc))\n",
    "\n",
    "plt.plot(epochs, acc, 'r', label='Training accuracy')\n",
    "plt.plot(epochs, val_acc, 'b', label='Validation accuracy')\n",
    "plt.title('Training and validation accuracy')\n",
    "plt.legend(loc=0)\n",
    "plt.figure()\n",
    "\n",
    "\n",
    "plt.show()"
   ]
  },
  {
   "cell_type": "code",
   "execution_count": null,
   "id": "763931f2",
   "metadata": {},
   "outputs": [],
   "source": []
  }
 ],
 "metadata": {
  "kernelspec": {
   "display_name": "Python 3.9 (tensorflow)",
   "language": "python",
   "name": "tensorflow"
  },
  "language_info": {
   "codemirror_mode": {
    "name": "ipython",
    "version": 3
   },
   "file_extension": ".py",
   "mimetype": "text/x-python",
   "name": "python",
   "nbconvert_exporter": "python",
   "pygments_lexer": "ipython3",
   "version": "3.9.9"
  }
 },
 "nbformat": 4,
 "nbformat_minor": 5
}
