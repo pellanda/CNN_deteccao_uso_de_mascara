{
 "cells": [
  {
   "cell_type": "markdown",
   "metadata": {},
   "source": [
    "Importação das bibliotecas necessárias"
   ]
  },
  {
   "cell_type": "code",
   "execution_count": 2,
   "metadata": {},
   "outputs": [],
   "source": [
    "import os"
   ]
  },
  {
   "cell_type": "markdown",
   "metadata": {},
   "source": [
    "Coloque os arquivos Jupyter e a pasta com as imagens no mesmo diretório, caso altere o nome dos arquivos, atualizar o caminho no código abaixo.\n",
    "\n",
    "O dataset pode ser baixado direta"
   ]
  },
  {
   "cell_type": "code",
   "execution_count": 3,
   "metadata": {},
   "outputs": [
    {
     "name": "stdout",
     "output_type": "stream",
     "text": [
      "Número de imagens de pessoas com máscara: 690\n",
      "Número de imagens de pessoas sem máscara:: 686\n"
     ]
    }
   ],
   "source": [
    "print(\"Número de imagens de pessoas com máscara:\",len(os.listdir('imagens/com_mascara')))\n",
    "print(\"Número de imagens de pessoas sem máscara::\",len(os.listdir('imagens/sem_mascara')))"
   ]
  },
  {
   "cell_type": "code",
   "execution_count": null,
   "metadata": {},
   "outputs": [],
   "source": []
  }
 ],
 "metadata": {
  "kernelspec": {
   "display_name": "Python 3",
   "language": "python",
   "name": "python3"
  },
  "language_info": {
   "codemirror_mode": {
    "name": "ipython",
    "version": 3
   },
   "file_extension": ".py",
   "mimetype": "text/x-python",
   "name": "python",
   "nbconvert_exporter": "python",
   "pygments_lexer": "ipython3",
   "version": "3.7.9"
  }
 },
 "nbformat": 4,
 "nbformat_minor": 4
}
